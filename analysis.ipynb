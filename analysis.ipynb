{
 "cells": [
  {
   "cell_type": "code",
   "execution_count": 1,
   "metadata": {},
   "outputs": [],
   "source": [
    "import pandas\n",
    "\n",
    "results = {\n",
    "}\n",
    "\n",
    "for model in ['resnet18', 'resnet34', 'resnet50', 'resnet101']:\n",
    "    results[model] = dict()\n",
    "    for mixed in ['no', 'fp16']:\n",
    "        results[model][mixed] = dict()\n",
    "        path = f'csv/{model}_{mixed}.csv'\n",
    "        data = pandas.read_csv(path)\n",
    "        \n",
    "        for index, inmodel in enumerate(data['model']):\n",
    "            splited_data = inmodel.split('_')\n",
    "            batch_size = splited_data[1]\n",
    "            num_workers = splited_data[2]\n",
    "            ga = splited_data[3]\n",
    "\n",
    "            if batch_size not in list(results[model][mixed].keys()):\n",
    "                results[model][mixed][batch_size] = dict()\n",
    "            if num_workers not in list(results[model][mixed][batch_size].keys()):\n",
    "                results[model][mixed][batch_size][num_workers] = dict()\n",
    "            if ga not in list(results[model][mixed][batch_size][num_workers].keys()):\n",
    "                results[model][mixed][batch_size][num_workers][ga] = dict() \n",
    "\n",
    "            results[model][mixed][batch_size][num_workers][ga]['cuda_forward_time'] = []\n",
    "            results[model][mixed][batch_size][num_workers][ga]['cuda_calc_loss_time'] = []\n",
    "            results[model][mixed][batch_size][num_workers][ga]['cuda_backward_time'] = []\n",
    "            results[model][mixed][batch_size][num_workers][ga]['cuda_update_time'] = []\n",
    "            \n",
    "            if '_32_' in inmodel:\n",
    "                iters_epoch = 7715\n",
    "            elif '_64_' in inmodel:\n",
    "                iters_epoch = 3810\n",
    "            elif '_128_' in inmodel:\n",
    "                iters_epoch = 1855\n",
    "            elif '_256_' in inmodel:\n",
    "                iters_epoch = 880\n",
    "            scale = iters_epoch / 1_000\n",
    "            results[model][mixed][batch_size][num_workers][ga]['cuda_forward_time'].append(list(data['cuda_forward_time'])[index] * scale)\n",
    "            results[model][mixed][batch_size][num_workers][ga]['cuda_calc_loss_time'].append(list(data['cuda_calc_loss_time'])[index] * scale)\n",
    "            results[model][mixed][batch_size][num_workers][ga]['cuda_backward_time'].append(list(data['cuda_backward_time'])[index] * scale)\n",
    "            results[model][mixed][batch_size][num_workers][ga]['cuda_update_time'].append(list(data['cuda_update_time'])[index] * scale)"
   ]
  },
  {
   "cell_type": "code",
   "execution_count": 2,
   "metadata": {},
   "outputs": [
    {
     "name": "stdout",
     "output_type": "stream",
     "text": [
      "[39.64705133581161]\n",
      "[22.61612899494171]\n",
      "[10.7702916765213]\n",
      "[5.408584930419922]\n",
      "\n",
      "[20.381392626307907]\n",
      "[10.763107586490921]\n",
      "[5.812272986951284]\n",
      "[2.945396549789235]\n",
      "\n",
      "[13.725644511398858]\n",
      "[7.200589118914678]\n",
      "[3.886958208188415]\n",
      "[1.8815157474894078]\n",
      "\n",
      "[5.857897718179039]\n",
      "[2.7865956444339828]\n",
      "[1.4745433275606483]\n",
      "[0.7726643203254789]\n"
     ]
    }
   ],
   "source": [
    "model = 'resnet50'\n",
    "mixed = 'no'\n",
    "time = 'cuda_update_time'\n",
    "print(results[model][mixed]['32']['1']['1'][time])\n",
    "print(results[model][mixed]['64']['1']['1'][time])\n",
    "print(results[model][mixed]['128']['1']['1'][time])\n",
    "print(results[model][mixed]['256']['1']['1'][time])\n",
    "print()\n",
    "\n",
    "print(results[model][mixed]['32']['1']['2'][time]) \n",
    "print(results[model][mixed]['64']['1']['2'][time])\n",
    "print(results[model][mixed]['128']['1']['2'][time])\n",
    "print(results[model][mixed]['256']['1']['2'][time])\n",
    "print()\n",
    "\n",
    "print(results[model][mixed]['32']['1']['3'][time]) \n",
    "print(results[model][mixed]['64']['1']['3'][time])\n",
    "print(results[model][mixed]['128']['1']['3'][time])\n",
    "print(results[model][mixed]['256']['1']['3'][time])\n",
    "print()\n",
    "\n",
    "print(results[model][mixed]['32']['1']['8'][time]) \n",
    "print(results[model][mixed]['64']['1']['8'][time])\n",
    "print(results[model][mixed]['128']['1']['8'][time])\n",
    "print(results[model][mixed]['256']['1']['8'][time])\n",
    "\n",
    "\n",
    "# data"
   ]
  },
  {
   "cell_type": "code",
   "execution_count": 3,
   "metadata": {},
   "outputs": [],
   "source": [
    "import pickle\n",
    "with open(\"results.pkl\", \"wb\") as f:\n",
    "    pickle.dump(results, f)"
   ]
  },
  {
   "cell_type": "code",
   "execution_count": 5,
   "metadata": {},
   "outputs": [
    {
     "name": "stdout",
     "output_type": "stream",
     "text": [
      "(496, 5) (496,)\n"
     ]
    }
   ],
   "source": [
    "import numpy as np\n",
    "\n",
    "batch = list()\n",
    "label = list()\n",
    "\n",
    "for model in list(results.keys()):\n",
    "    for mixed in list(results[model].keys()):\n",
    "        for batch_size in list(results[model][mixed].keys()):\n",
    "            for num_workers in list(results[model][mixed][batch_size].keys()):\n",
    "                for ga in list(results[model][mixed][batch_size][num_workers].keys()):\n",
    "                    cuda_forward_time = results[model][mixed][batch_size][num_workers][ga]['cuda_forward_time']\n",
    "                    cuda_calc_loss_time = results[model][mixed][batch_size][num_workers][ga]['cuda_calc_loss_time']\n",
    "                    cuda_backward_time = results[model][mixed][batch_size][num_workers][ga]['cuda_backward_time']\n",
    "                    cuda_update_time = results[model][mixed][batch_size][num_workers][ga]['cuda_update_time']\n",
    "                    \n",
    "                    total_time = cuda_forward_time[0] + cuda_calc_loss_time[0] + cuda_backward_time[0] + cuda_update_time[0]\n",
    "                    \n",
    "                    num_model = int(model.replace(\"resnet\", \"\"))\n",
    "                    if mixed == 'no':\n",
    "                        num_mixed = 32\n",
    "                    else:\n",
    "                        num_mixed = 16\n",
    "                    num_batch_size = int(batch_size)\n",
    "                    num_num_workers = int(num_workers)\n",
    "                    num_ga = int(ga)\n",
    "                    \n",
    "                    instance = [num_model, num_mixed, num_batch_size, num_num_workers, num_ga]\n",
    "                    batch.append(instance)\n",
    "                    label.append(total_time)\n",
    "\n",
    "np_batch = np.array(batch)\n",
    "np_label = np.array(label)\n",
    "print(np_batch.shape, np_label.shape)\n",
    "\n",
    "np.save('np_batch', np_batch)\n",
    "np.save('np_label', np_label)"
   ]
  }
 ],
 "metadata": {
  "kernelspec": {
   "display_name": "Python 3",
   "language": "python",
   "name": "python3"
  },
  "language_info": {
   "codemirror_mode": {
    "name": "ipython",
    "version": 3
   },
   "file_extension": ".py",
   "mimetype": "text/x-python",
   "name": "python",
   "nbconvert_exporter": "python",
   "pygments_lexer": "ipython3",
   "version": "3.10.12"
  }
 },
 "nbformat": 4,
 "nbformat_minor": 2
}
