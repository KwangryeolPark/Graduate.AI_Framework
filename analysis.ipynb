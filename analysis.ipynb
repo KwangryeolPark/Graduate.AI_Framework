{
 "cells": [
  {
   "cell_type": "code",
   "execution_count": 1,
   "metadata": {},
   "outputs": [],
   "source": [
    "import pandas\n",
    "\n",
    "results = {\n",
    "}\n",
    "\n",
    "for model in ['resnet18', 'resnet34', 'resnet50', 'resnet101']:\n",
    "    results[model] = dict()\n",
    "    for mixed in ['no', 'fp16']:\n",
    "        results[model][mixed] = dict()\n",
    "        path = f'csv/{model}_{mixed}.csv'\n",
    "        data = pandas.read_csv(path)\n",
    "        \n",
    "        for index, inmodel in enumerate(data['model']):\n",
    "            splited_data = inmodel.split('_')\n",
    "            batch_size = splited_data[1]\n",
    "            num_workers = splited_data[2]\n",
    "            ga = splited_data[3]\n",
    "\n",
    "            if batch_size not in list(results[model][mixed].keys()):\n",
    "                results[model][mixed][batch_size] = dict()\n",
    "            if num_workers not in list(results[model][mixed][batch_size].keys()):\n",
    "                results[model][mixed][batch_size][num_workers] = dict()\n",
    "            if ga not in list(results[model][mixed][batch_size][num_workers].keys()):\n",
    "                results[model][mixed][batch_size][num_workers][ga] = dict() \n",
    "\n",
    "            results[model][mixed][batch_size][num_workers][ga]['cuda_forward_time'] = []\n",
    "            results[model][mixed][batch_size][num_workers][ga]['cuda_calc_loss_time'] = []\n",
    "            results[model][mixed][batch_size][num_workers][ga]['cuda_backward_time'] = []\n",
    "            results[model][mixed][batch_size][num_workers][ga]['cuda_update_time'] = []\n",
    "            \n",
    "            if '_32_' in inmodel:\n",
    "                iters_epoch = 7715\n",
    "            elif '_64_' in inmodel:\n",
    "                iters_epoch = 3810\n",
    "            elif '_128_' in inmodel:\n",
    "                iters_epoch = 1855\n",
    "            elif '_256_' in inmodel:\n",
    "                iters_epoch = 880\n",
    "            scale = iters_epoch / 1_000\n",
    "            results[model][mixed][batch_size][num_workers][ga]['cuda_forward_time'].append(list(data['cuda_forward_time'])[index] * scale)\n",
    "            results[model][mixed][batch_size][num_workers][ga]['cuda_calc_loss_time'].append(list(data['cuda_calc_loss_time'])[index] * scale)\n",
    "            results[model][mixed][batch_size][num_workers][ga]['cuda_backward_time'].append(list(data['cuda_backward_time'])[index] * scale)\n",
    "            results[model][mixed][batch_size][num_workers][ga]['cuda_update_time'].append(list(data['cuda_update_time'])[index] * scale)"
   ]
  },
  {
   "cell_type": "code",
   "execution_count": 2,
   "metadata": {},
   "outputs": [
    {
     "name": "stdout",
     "output_type": "stream",
     "text": [
      "[39.64705133581161]\n",
      "[22.61612899494171]\n",
      "[10.7702916765213]\n",
      "[5.408584930419922]\n",
      "\n",
      "[20.381392626307907]\n",
      "[10.763107586490921]\n",
      "[5.812272986951284]\n",
      "[2.945396549789235]\n",
      "\n",
      "[13.725644511398858]\n",
      "[7.200589118914678]\n",
      "[3.886958208188415]\n",
      "[1.8815157474894078]\n",
      "\n",
      "[5.857897718179039]\n",
      "[2.7865956444339828]\n",
      "[1.4745433275606483]\n",
      "[0.7726643203254789]\n"
     ]
    }
   ],
   "source": [
    "model = 'resnet50'\n",
    "mixed = 'no'\n",
    "time = 'cuda_update_time'\n",
    "print(results[model][mixed]['32']['1']['1'][time])\n",
    "print(results[model][mixed]['64']['1']['1'][time])\n",
    "print(results[model][mixed]['128']['1']['1'][time])\n",
    "print(results[model][mixed]['256']['1']['1'][time])\n",
    "print()\n",
    "\n",
    "print(results[model][mixed]['32']['1']['2'][time]) \n",
    "print(results[model][mixed]['64']['1']['2'][time])\n",
    "print(results[model][mixed]['128']['1']['2'][time])\n",
    "print(results[model][mixed]['256']['1']['2'][time])\n",
    "print()\n",
    "\n",
    "print(results[model][mixed]['32']['1']['3'][time]) \n",
    "print(results[model][mixed]['64']['1']['3'][time])\n",
    "print(results[model][mixed]['128']['1']['3'][time])\n",
    "print(results[model][mixed]['256']['1']['3'][time])\n",
    "print()\n",
    "\n",
    "print(results[model][mixed]['32']['1']['8'][time]) \n",
    "print(results[model][mixed]['64']['1']['8'][time])\n",
    "print(results[model][mixed]['128']['1']['8'][time])\n",
    "print(results[model][mixed]['256']['1']['8'][time])\n",
    "\n",
    "\n",
    "# data"
   ]
  },
  {
   "cell_type": "code",
   "execution_count": 3,
   "metadata": {},
   "outputs": [
    {
     "ename": "TypeError",
     "evalue": "dump() missing required argument 'file' (pos 2)",
     "output_type": "error",
     "traceback": [
      "\u001b[0;31m---------------------------------------------------------------------------\u001b[0m",
      "\u001b[0;31mTypeError\u001b[0m                                 Traceback (most recent call last)",
      "\u001b[1;32m/root/Graduate.AI_Framework/analysis.ipynb 셀 3\u001b[0m line \u001b[0;36m3\n\u001b[1;32m      <a href='vscode-notebook-cell://ssh-remote%2B7b22686f73744e616d65223a224541492d322d41492d6672616d65776f726b7373227d/root/Graduate.AI_Framework/analysis.ipynb#W3sdnNjb2RlLXJlbW90ZQ%3D%3D?line=0'>1</a>\u001b[0m \u001b[39mimport\u001b[39;00m \u001b[39mpickle\u001b[39;00m\n\u001b[1;32m      <a href='vscode-notebook-cell://ssh-remote%2B7b22686f73744e616d65223a224541492d322d41492d6672616d65776f726b7373227d/root/Graduate.AI_Framework/analysis.ipynb#W3sdnNjb2RlLXJlbW90ZQ%3D%3D?line=1'>2</a>\u001b[0m \u001b[39mwith\u001b[39;00m \u001b[39mopen\u001b[39m(\u001b[39m\"\u001b[39m\u001b[39mresults.pkl\u001b[39m\u001b[39m\"\u001b[39m, \u001b[39m\"\u001b[39m\u001b[39mwb\u001b[39m\u001b[39m\"\u001b[39m) \u001b[39mas\u001b[39;00m f:\n\u001b[0;32m----> <a href='vscode-notebook-cell://ssh-remote%2B7b22686f73744e616d65223a224541492d322d41492d6672616d65776f726b7373227d/root/Graduate.AI_Framework/analysis.ipynb#W3sdnNjb2RlLXJlbW90ZQ%3D%3D?line=2'>3</a>\u001b[0m     pickle\u001b[39m.\u001b[39;49mdump(results)\n",
      "\u001b[0;31mTypeError\u001b[0m: dump() missing required argument 'file' (pos 2)"
     ]
    }
   ],
   "source": [
    "import pickle\n",
    "with open(\"results.pkl\", \"wb\") as f:\n",
    "    pickle.dump(results, f)"
   ]
  }
 ],
 "metadata": {
  "kernelspec": {
   "display_name": "Python 3",
   "language": "python",
   "name": "python3"
  },
  "language_info": {
   "codemirror_mode": {
    "name": "ipython",
    "version": 3
   },
   "file_extension": ".py",
   "mimetype": "text/x-python",
   "name": "python",
   "nbconvert_exporter": "python",
   "pygments_lexer": "ipython3",
   "version": "3.10.12"
  }
 },
 "nbformat": 4,
 "nbformat_minor": 2
}
